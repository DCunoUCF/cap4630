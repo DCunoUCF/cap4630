{
  "nbformat": 4,
  "nbformat_minor": 0,
  "metadata": {
    "colab": {
      "name": "Problem3.ipynb",
      "provenance": [],
      "include_colab_link": true
    },
    "kernelspec": {
      "name": "python3",
      "display_name": "Python 3"
    }
  },
  "cells": [
    {
      "cell_type": "markdown",
      "metadata": {
        "id": "view-in-github",
        "colab_type": "text"
      },
      "source": [
        "<a href=\"https://colab.research.google.com/github/DCunoUCF/cap4630/blob/master/Problem3.ipynb\" target=\"_parent\"><img src=\"https://colab.research.google.com/assets/colab-badge.svg\" alt=\"Open In Colab\"/></a>"
      ]
    },
    {
      "cell_type": "markdown",
      "metadata": {
        "id": "H8O5t5nsvqjl",
        "colab_type": "text"
      },
      "source": [
        "# Problem 3\n",
        "What does an average MNIST digit look like? For each i=0,1,...,9, \n",
        "compute the average of digit i and display it."
      ]
    },
    {
      "cell_type": "code",
      "metadata": {
        "id": "QbEh0hARvoKq",
        "colab_type": "code",
        "colab": {}
      },
      "source": [
        "from keras.datasets import mnist\n",
        "import matplotlib.pyplot as plt\n",
        "import numpy as np\n",
        "\n",
        "(train_images, train_labels), (test_images, test_labels) = mnist.load_data()\n",
        "\n",
        "lst0 = []\n",
        "lst1 = []\n",
        "lst2 = []\n",
        "lst3 = []\n",
        "lst4 = []\n",
        "lst5 = []\n",
        "lst6 = []\n",
        "lst7 = []\n",
        "lst8 = []\n",
        "lst9 = []\n",
        "\n",
        "# Sorting the digits into their respective lists\n",
        "for i in range(len(train_labels)):\n",
        "  if(train_labels[i] == 0):\n",
        "    lst0.append(train_images[i])\n",
        "    \n",
        "  if(train_labels[i] == 1):\n",
        "    lst1.append(train_images[i])\n",
        "    \n",
        "  if(train_labels[i] == 2):\n",
        "    lst2.append(train_images[i])\n",
        "    \n",
        "  if(train_labels[i] == 3):\n",
        "    lst3.append(train_images[i])\n",
        "    \n",
        "  if(train_labels[i] == 4):\n",
        "    lst4.append(train_images[i])\n",
        "    \n",
        "  if(train_labels[i] == 5):\n",
        "    lst5.append(train_images[i])\n",
        "    \n",
        "  if(train_labels[i] == 6):\n",
        "    lst6.append(train_images[i])\n",
        "    \n",
        "  if(train_labels[i] == 7):\n",
        "    lst7.append(train_images[i])\n",
        "    \n",
        "  if(train_labels[i] == 8):\n",
        "    lst8.append(train_images[i])\n",
        "    \n",
        "  if(train_labels[i] == 9):\n",
        "    lst9.append(train_images[i])\n",
        "    \n",
        "# Printing each list of each digit averaged together\n",
        "plt.figure(figsize=(4, 4))\n",
        "avg_lst = numpy.average(lst0,axis=0)\n",
        "plt.imshow(avg_lst.astype(np.uint8))\n",
        "plt.show()\n",
        "\n",
        "avg_lst = numpy.average(lst1,axis=0)\n",
        "plt.imshow(avg_lst.astype(np.uint8))\n",
        "plt.show()\n",
        "\n",
        "avg_lst = numpy.average(lst2,axis=0)\n",
        "plt.imshow(avg_lst.astype(np.uint8))\n",
        "plt.show()\n",
        "\n",
        "avg_lst = numpy.average(lst3,axis=0)\n",
        "plt.imshow(avg_lst.astype(np.uint8))\n",
        "plt.show()\n",
        "\n",
        "avg_lst = numpy.average(lst4,axis=0)\n",
        "plt.imshow(avg_lst.astype(np.uint8))\n",
        "plt.show()\n",
        "\n",
        "avg_lst = numpy.average(lst5,axis=0)\n",
        "plt.imshow(avg_lst.astype(np.uint8))\n",
        "plt.show()\n",
        "\n",
        "avg_lst = numpy.average(lst6,axis=0)\n",
        "plt.imshow(avg_lst.astype(np.uint8))\n",
        "plt.show()\n",
        "\n",
        "avg_lst = numpy.average(lst7,axis=0)\n",
        "plt.imshow(avg_lst.astype(np.uint8))\n",
        "plt.show()\n",
        "\n",
        "avg_lst = numpy.average(lst8,axis=0)\n",
        "plt.imshow(avg_lst.astype(np.uint8))\n",
        "plt.show()\n",
        "\n",
        "avg_lst = numpy.average(lst9,axis=0)\n",
        "plt.imshow(avg_lst.astype(np.uint8))\n",
        "plt.show()"
      ],
      "execution_count": 0,
      "outputs": []
    }
  ]
}
