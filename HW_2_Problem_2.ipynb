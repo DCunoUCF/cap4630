{
  "nbformat": 4,
  "nbformat_minor": 0,
  "metadata": {
    "colab": {
      "name": "HW 2 Problem 2.ipynb",
      "provenance": [],
      "collapsed_sections": [],
      "include_colab_link": true
    },
    "kernelspec": {
      "name": "python3",
      "display_name": "Python 3"
    }
  },
  "cells": [
    {
      "cell_type": "markdown",
      "metadata": {
        "id": "view-in-github",
        "colab_type": "text"
      },
      "source": [
        "<a href=\"https://colab.research.google.com/github/DCunoUCF/cap4630/blob/master/HW_2_Problem_2.ipynb\" target=\"_parent\"><img src=\"https://colab.research.google.com/assets/colab-badge.svg\" alt=\"Open In Colab\"/></a>"
      ]
    },
    {
      "cell_type": "markdown",
      "metadata": {
        "id": "ZiEkT9ACi0XZ",
        "colab_type": "text"
      },
      "source": [
        "#David Cuno\n",
        "#Professor Wocjan\n",
        "#CAP 4630\n",
        "#11/12/19"
      ]
    },
    {
      "cell_type": "markdown",
      "metadata": {
        "id": "EdrgO9iIi5GX",
        "colab_type": "text"
      },
      "source": [
        "# Problem 2\n",
        "Modify the network architecture in the notebook for classifying MNIST fashion items with dense layers and analyzing model performance by varying the number of hidden layers and choosing different sizes for the hidden layers.\n",
        "\n",
        "Give three models consisting of only dense layers that\n",
        "\n",
        "    first model underfits (the model is too simple and cannot explain the data)\n",
        "    second model overfits (the model is unnecessarily complex so it can easily adapt too much to the training data)\n",
        "    third is pretty good (the model is either too simple, nor too complex; you don't train for too many epochs; you use dropout to fight overfitting)\n",
        "\n",
        "Make sure that you plot the curves depicting the training/validation accuracy/loss."
      ]
    },
    {
      "cell_type": "code",
      "metadata": {
        "id": "Gs2vvrnAiyKL",
        "colab_type": "code",
        "colab": {}
      },
      "source": [
        "# example: history = model.fit\n",
        "# use wocjan notebook code\n",
        "# underfit means the model is \"less complicated\" than the model that works. model too simple. not trained enough?\n",
        "# overfit => significant gap between training accuracy and validation accuracy??? training too much, over optimize\n",
        "\n",
        "# dense layers\n",
        "\n"
      ],
      "execution_count": 0,
      "outputs": []
    },
    {
      "cell_type": "markdown",
      "metadata": {
        "id": "J-EoEeT02dSP",
        "colab_type": "text"
      },
      "source": [
        "# UNDERFIT"
      ]
    },
    {
      "cell_type": "code",
      "metadata": {
        "id": "7nyxCdE32fim",
        "colab_type": "code",
        "colab": {
          "base_uri": "https://localhost:8080/",
          "height": 1000
        },
        "outputId": "17be124f-fff2-4f06-bbc2-4ba34c916cd8"
      },
      "source": [
        "from keras.datasets import mnist\n",
        "import matplotlib.pyplot as plt\n",
        "import numpy as np\n",
        "import math as m\n",
        "import time\n",
        "from keras.models import Sequential\n",
        "from keras.layers.convolutional import Conv2D\n",
        "from keras.layers.convolutional import MaxPooling2D\n",
        "from keras.layers.core import Activation\n",
        "from keras.layers.core import Flatten\n",
        "from keras.layers.core import Dense\n",
        "from keras import backend as K\n",
        "from keras.utils import to_categorical\n",
        "from keras import models\n",
        "from keras import layers\n",
        "import tensorflow as tf\n",
        "from tensorflow import keras\n",
        "\n",
        "fashion_mnist = keras.datasets.fashion_mnist\n",
        "\n",
        "(train_images, train_labels), (test_images, test_labels) = fashion_mnist.load_data()\n",
        "\n",
        "train_images = train_images_original.reshape((60000, 28 * 28))\n",
        "train_images = train_images.astype('float32') / 255\n",
        "\n",
        "test_images = test_images_original.reshape((10000, 28 * 28))\n",
        "test_images = test_images.astype('float32') / 255\n",
        "\n",
        "train_labels = to_categorical(train_labels_original)\n",
        "test_labels = to_categorical(test_labels_original)\n",
        "\n",
        "network = models.Sequential()\n",
        "network.add(layers.Dense(1, activation='relu', input_shape=(28 * 28,))) # default was 512\n",
        "network.add(layers.Dense(10, activation='softmax'))\n",
        "network.summary()\n",
        "\n",
        "network.compile(optimizer='rmsprop',\n",
        "                loss='categorical_crossentropy',\n",
        "                metrics=['accuracy'])\n",
        "\n",
        "epochs = 30 # default was 50\n",
        "history = network.fit(train_images, \n",
        "                      train_labels, \n",
        "                      epochs=epochs, \n",
        "                      batch_size=128, \n",
        "                      validation_data=(test_images, test_labels))\n",
        "\n",
        "history_dict = history.history\n",
        "loss_values = history_dict['loss']\n",
        "test_loss_values = history_dict['val_loss']\n",
        "epochs_range = range(1, epochs + 1)\n",
        "\n",
        "plt.plot(epochs_range, loss_values, 'bo', label='Training loss')\n",
        "plt.plot(epochs_range, test_loss_values, 'ro', label='Test loss')\n",
        "plt.title('Training and test loss')\n",
        "plt.xlabel('Epochs')\n",
        "plt.ylabel('Loss')\n",
        "plt.legend()\n",
        "plt.show()\n",
        "\n",
        "acc_values = history_dict['acc']\n",
        "test_acc_values = history_dict['val_acc']\n",
        "\n",
        "plt.plot(epochs_range, acc_values, 'bo', label='Training accuracy')\n",
        "plt.plot(epochs_range, test_acc_values, 'ro', label='Test accuracy')\n",
        "plt.title('Training and test accuracy')\n",
        "plt.xlabel('Epochs')\n",
        "plt.ylabel('Accuracy')\n",
        "plt.legend()\n",
        "plt.show()\n"
      ],
      "execution_count": 39,
      "outputs": [
        {
          "output_type": "stream",
          "text": [
            "Model: \"sequential_38\"\n",
            "_________________________________________________________________\n",
            "Layer (type)                 Output Shape              Param #   \n",
            "=================================================================\n",
            "dense_84 (Dense)             (None, 1)                 785       \n",
            "_________________________________________________________________\n",
            "dense_85 (Dense)             (None, 10)                20        \n",
            "=================================================================\n",
            "Total params: 805\n",
            "Trainable params: 805\n",
            "Non-trainable params: 0\n",
            "_________________________________________________________________\n",
            "Train on 60000 samples, validate on 10000 samples\n",
            "Epoch 1/30\n",
            "60000/60000 [==============================] - 3s 50us/step - loss: 2.0774 - acc: 0.1764 - val_loss: 1.9553 - val_acc: 0.2217\n",
            "Epoch 2/30\n",
            "60000/60000 [==============================] - 1s 17us/step - loss: 1.9319 - acc: 0.2313 - val_loss: 1.8732 - val_acc: 0.2424\n",
            "Epoch 3/30\n",
            "60000/60000 [==============================] - 1s 15us/step - loss: 1.8664 - acc: 0.2489 - val_loss: 1.8161 - val_acc: 0.2527\n",
            "Epoch 4/30\n",
            "60000/60000 [==============================] - 1s 16us/step - loss: 1.8193 - acc: 0.2651 - val_loss: 1.7776 - val_acc: 0.2661\n",
            "Epoch 5/30\n",
            "60000/60000 [==============================] - 1s 16us/step - loss: 1.7865 - acc: 0.2712 - val_loss: 1.7510 - val_acc: 0.3011\n",
            "Epoch 6/30\n",
            "60000/60000 [==============================] - 1s 15us/step - loss: 1.7644 - acc: 0.2823 - val_loss: 1.7323 - val_acc: 0.2946\n",
            "Epoch 7/30\n",
            "60000/60000 [==============================] - 1s 15us/step - loss: 1.7490 - acc: 0.2926 - val_loss: 1.7188 - val_acc: 0.3137\n",
            "Epoch 8/30\n",
            "60000/60000 [==============================] - 1s 17us/step - loss: 1.7370 - acc: 0.3032 - val_loss: 1.7092 - val_acc: 0.3294\n",
            "Epoch 9/30\n",
            "60000/60000 [==============================] - 1s 17us/step - loss: 1.7273 - acc: 0.3063 - val_loss: 1.7003 - val_acc: 0.3360\n",
            "Epoch 10/30\n",
            "60000/60000 [==============================] - 1s 18us/step - loss: 1.7191 - acc: 0.3180 - val_loss: 1.6927 - val_acc: 0.3356\n",
            "Epoch 11/30\n",
            "60000/60000 [==============================] - 1s 18us/step - loss: 1.7123 - acc: 0.3183 - val_loss: 1.6854 - val_acc: 0.3258\n",
            "Epoch 12/30\n",
            "60000/60000 [==============================] - 1s 20us/step - loss: 1.7069 - acc: 0.3195 - val_loss: 1.6801 - val_acc: 0.3466\n",
            "Epoch 13/30\n",
            "60000/60000 [==============================] - 1s 19us/step - loss: 1.7022 - acc: 0.3283 - val_loss: 1.6751 - val_acc: 0.3450\n",
            "Epoch 14/30\n",
            "60000/60000 [==============================] - 1s 19us/step - loss: 1.6981 - acc: 0.3337 - val_loss: 1.6730 - val_acc: 0.3388\n",
            "Epoch 15/30\n",
            "60000/60000 [==============================] - 1s 17us/step - loss: 1.6951 - acc: 0.3347 - val_loss: 1.6688 - val_acc: 0.3522\n",
            "Epoch 16/30\n",
            "60000/60000 [==============================] - 1s 15us/step - loss: 1.6922 - acc: 0.3377 - val_loss: 1.6656 - val_acc: 0.3576\n",
            "Epoch 17/30\n",
            "60000/60000 [==============================] - 1s 17us/step - loss: 1.6900 - acc: 0.3411 - val_loss: 1.6655 - val_acc: 0.3568\n",
            "Epoch 18/30\n",
            "60000/60000 [==============================] - 1s 17us/step - loss: 1.6877 - acc: 0.3426 - val_loss: 1.6640 - val_acc: 0.3504\n",
            "Epoch 19/30\n",
            "60000/60000 [==============================] - 1s 18us/step - loss: 1.6857 - acc: 0.3468 - val_loss: 1.6603 - val_acc: 0.3480\n",
            "Epoch 20/30\n",
            "60000/60000 [==============================] - 1s 18us/step - loss: 1.6842 - acc: 0.3461 - val_loss: 1.6593 - val_acc: 0.3470\n",
            "Epoch 21/30\n",
            "60000/60000 [==============================] - 1s 18us/step - loss: 1.6829 - acc: 0.3491 - val_loss: 1.6584 - val_acc: 0.3526\n",
            "Epoch 22/30\n",
            "60000/60000 [==============================] - 1s 17us/step - loss: 1.6813 - acc: 0.3482 - val_loss: 1.6570 - val_acc: 0.3504\n",
            "Epoch 23/30\n",
            "60000/60000 [==============================] - 1s 18us/step - loss: 1.6801 - acc: 0.3487 - val_loss: 1.6559 - val_acc: 0.3590\n",
            "Epoch 24/30\n",
            "60000/60000 [==============================] - 1s 17us/step - loss: 1.6788 - acc: 0.3524 - val_loss: 1.6554 - val_acc: 0.3561\n",
            "Epoch 25/30\n",
            "60000/60000 [==============================] - 1s 18us/step - loss: 1.6776 - acc: 0.3518 - val_loss: 1.6547 - val_acc: 0.3578\n",
            "Epoch 26/30\n",
            "60000/60000 [==============================] - 1s 18us/step - loss: 1.6771 - acc: 0.3543 - val_loss: 1.6533 - val_acc: 0.3566\n",
            "Epoch 27/30\n",
            "60000/60000 [==============================] - 1s 18us/step - loss: 1.6756 - acc: 0.3547 - val_loss: 1.6534 - val_acc: 0.3620\n",
            "Epoch 28/30\n",
            "60000/60000 [==============================] - 1s 17us/step - loss: 1.6750 - acc: 0.3526 - val_loss: 1.6522 - val_acc: 0.3635\n",
            "Epoch 29/30\n",
            "60000/60000 [==============================] - 1s 16us/step - loss: 1.6741 - acc: 0.3583 - val_loss: 1.6519 - val_acc: 0.3639\n",
            "Epoch 30/30\n",
            "60000/60000 [==============================] - 1s 16us/step - loss: 1.6735 - acc: 0.3569 - val_loss: 1.6510 - val_acc: 0.3575\n"
          ],
          "name": "stdout"
        },
        {
          "output_type": "display_data",
          "data": {
            "image/png": "[encoded data removed]",
            "text/plain": [
              "<Figure size 432x288 with 1 Axes>"
            ]
          },
          "metadata": {
            "tags": []
          }
        },
        {
          "output_type": "display_data",
          "data": {
            "image/png": "[encoded data removed]",
            "text/plain": [
              "<Figure size 432x288 with 1 Axes>"
            ]
          },
          "metadata": {
            "tags": []
          }
        }
      ]
    },
    {
      "cell_type": "markdown",
      "metadata": {
        "id": "ukW8-lCx2hbE",
        "colab_type": "text"
      },
      "source": [
        "# OVERFIT"
      ]
    },
    {
      "cell_type": "code",
      "metadata": {
        "id": "-9QCBdhA2j4v",
        "colab_type": "code",
        "colab": {
          "base_uri": "https://localhost:8080/",
          "height": 1000
        },
        "outputId": "88762a04-2d53-4cc0-f93f-7a48d405b31a"
      },
      "source": [
        "from keras.datasets import mnist\n",
        "import matplotlib.pyplot as plt\n",
        "import numpy as np\n",
        "import math as m\n",
        "import time\n",
        "from keras.models import Sequential\n",
        "from keras.layers.convolutional import Conv2D\n",
        "from keras.layers.convolutional import MaxPooling2D\n",
        "from keras.layers.core import Activation\n",
        "from keras.layers.core import Flatten\n",
        "from keras.layers.core import Dense\n",
        "from keras import backend as K\n",
        "from keras.utils import to_categorical\n",
        "from keras import models\n",
        "from keras import layers\n",
        "import tensorflow as tf\n",
        "from tensorflow import keras\n",
        "\n",
        "fashion_mnist = keras.datasets.fashion_mnist\n",
        "\n",
        "(train_images, train_labels), (test_images, test_labels) = fashion_mnist.load_data()\n",
        "\n",
        "train_images = train_images_original.reshape((60000, 28 * 28))\n",
        "train_images = train_images.astype('float32') / 255\n",
        "\n",
        "test_images = test_images_original.reshape((10000, 28 * 28))\n",
        "test_images = test_images.astype('float32') / 255\n",
        "\n",
        "train_labels = to_categorical(train_labels_original)\n",
        "test_labels = to_categorical(test_labels_original)\n",
        "\n",
        "network = models.Sequential()\n",
        "network.add(layers.Dense(128, activation='relu', input_shape=(28 * 28,))) # lots\n",
        "network.add(layers.Dense(256, activation='relu', input_shape=(28 * 28,))) # of\n",
        "network.add(layers.Dense(512, activation='relu', input_shape=(28 * 28,))) # layers\n",
        "network.add(layers.Dense(1024, activation='relu', input_shape=(28 * 28,))) # default was 512 only\n",
        "network.add(layers.Dense(10, activation='softmax'))\n",
        "network.summary()\n",
        "\n",
        "network.compile(optimizer='rmsprop',\n",
        "                loss='categorical_crossentropy',\n",
        "                metrics=['accuracy'])\n",
        "\n",
        "epochs = 30 # default was 50\n",
        "history = network.fit(train_images, \n",
        "                      train_labels, \n",
        "                      epochs=epochs, \n",
        "                      batch_size=128, \n",
        "                      validation_data=(test_images, test_labels))\n",
        "\n",
        "history_dict = history.history\n",
        "loss_values = history_dict['loss']\n",
        "test_loss_values = history_dict['val_loss']\n",
        "epochs_range = range(1, epochs + 1)\n",
        "\n",
        "plt.plot(epochs_range, loss_values, 'bo', label='Training loss')\n",
        "plt.plot(epochs_range, test_loss_values, 'ro', label='Test loss')\n",
        "plt.title('Training and test loss')\n",
        "plt.xlabel('Epochs')\n",
        "plt.ylabel('Loss')\n",
        "plt.legend()\n",
        "plt.show()\n",
        "\n",
        "acc_values = history_dict['acc']\n",
        "test_acc_values = history_dict['val_acc']\n",
        "\n",
        "plt.plot(epochs_range, acc_values, 'bo', label='Training accuracy')\n",
        "plt.plot(epochs_range, test_acc_values, 'ro', label='Test accuracy')\n",
        "plt.title('Training and test accuracy')\n",
        "plt.xlabel('Epochs')\n",
        "plt.ylabel('Accuracy')\n",
        "plt.legend()\n",
        "plt.show()\n"
      ],
      "execution_count": 40,
      "outputs": [
        {
          "output_type": "stream",
          "text": [
            "Model: \"sequential_39\"\n",
            "_________________________________________________________________\n",
            "Layer (type)                 Output Shape              Param #   \n",
            "=================================================================\n",
            "dense_86 (Dense)             (None, 128)               100480    \n",
            "_________________________________________________________________\n",
            "dense_87 (Dense)             (None, 256)               33024     \n",
            "_________________________________________________________________\n",
            "dense_88 (Dense)             (None, 512)               131584    \n",
            "_________________________________________________________________\n",
            "dense_89 (Dense)             (None, 1024)              525312    \n",
            "_________________________________________________________________\n",
            "dense_90 (Dense)             (None, 10)                10250     \n",
            "=================================================================\n",
            "Total params: 800,650\n",
            "Trainable params: 800,650\n",
            "Non-trainable params: 0\n",
            "_________________________________________________________________\n",
            "Train on 60000 samples, validate on 10000 samples\n",
            "Epoch 1/30\n",
            "60000/60000 [==============================] - 16s 274us/step - loss: 0.3135 - acc: 0.9018 - val_loss: 0.1529 - val_acc: 0.9524\n",
            "Epoch 2/30\n",
            "60000/60000 [==============================] - 14s 239us/step - loss: 0.1390 - acc: 0.9587 - val_loss: 0.1374 - val_acc: 0.9607\n",
            "Epoch 3/30\n",
            "60000/60000 [==============================] - 14s 226us/step - loss: 0.1159 - acc: 0.9656 - val_loss: 0.1038 - val_acc: 0.9722\n",
            "Epoch 4/30\n",
            "60000/60000 [==============================] - 13s 220us/step - loss: 0.1052 - acc: 0.9687 - val_loss: 0.1071 - val_acc: 0.9736\n",
            "Epoch 5/30\n",
            "60000/60000 [==============================] - 13s 220us/step - loss: 0.1055 - acc: 0.9703 - val_loss: 0.1217 - val_acc: 0.9678\n",
            "Epoch 6/30\n",
            "60000/60000 [==============================] - 14s 234us/step - loss: 0.1005 - acc: 0.9727 - val_loss: 0.0911 - val_acc: 0.9754\n",
            "Epoch 7/30\n",
            "60000/60000 [==============================] - 14s 236us/step - loss: 0.0984 - acc: 0.9736 - val_loss: 0.1230 - val_acc: 0.9687\n",
            "Epoch 8/30\n",
            "60000/60000 [==============================] - 14s 233us/step - loss: 0.0909 - acc: 0.9755 - val_loss: 0.1305 - val_acc: 0.9683\n",
            "Epoch 9/30\n",
            "60000/60000 [==============================] - 14s 232us/step - loss: 0.0913 - acc: 0.9766 - val_loss: 0.1539 - val_acc: 0.9662\n",
            "Epoch 10/30\n",
            "60000/60000 [==============================] - 14s 235us/step - loss: 0.0875 - acc: 0.9772 - val_loss: 0.1716 - val_acc: 0.9675\n",
            "Epoch 11/30\n",
            "60000/60000 [==============================] - 14s 239us/step - loss: 0.0878 - acc: 0.9769 - val_loss: 0.1179 - val_acc: 0.9727\n",
            "Epoch 12/30\n",
            "60000/60000 [==============================] - 14s 237us/step - loss: 0.0840 - acc: 0.9785 - val_loss: 0.2072 - val_acc: 0.9514\n",
            "Epoch 13/30\n",
            "60000/60000 [==============================] - 14s 231us/step - loss: 0.0823 - acc: 0.9788 - val_loss: 0.1442 - val_acc: 0.9728\n",
            "Epoch 14/30\n",
            "60000/60000 [==============================] - 14s 231us/step - loss: 0.0798 - acc: 0.9801 - val_loss: 0.1078 - val_acc: 0.9790\n",
            "Epoch 15/30\n",
            "60000/60000 [==============================] - 14s 229us/step - loss: 0.0846 - acc: 0.9797 - val_loss: 0.6282 - val_acc: 0.9122\n",
            "Epoch 16/30\n",
            "60000/60000 [==============================] - 14s 237us/step - loss: 0.0806 - acc: 0.9808 - val_loss: 0.1166 - val_acc: 0.9707\n",
            "Epoch 17/30\n",
            "60000/60000 [==============================] - 14s 228us/step - loss: 0.0840 - acc: 0.9803 - val_loss: 0.1744 - val_acc: 0.9683\n",
            "Epoch 18/30\n",
            "60000/60000 [==============================] - 14s 239us/step - loss: 0.0821 - acc: 0.9814 - val_loss: 0.1681 - val_acc: 0.9722\n",
            "Epoch 19/30\n",
            "60000/60000 [==============================] - 14s 232us/step - loss: 0.0760 - acc: 0.9829 - val_loss: 0.1182 - val_acc: 0.9768\n",
            "Epoch 20/30\n",
            "60000/60000 [==============================] - 14s 226us/step - loss: 0.0748 - acc: 0.9823 - val_loss: 0.1205 - val_acc: 0.9771\n",
            "Epoch 21/30\n",
            "60000/60000 [==============================] - 13s 212us/step - loss: 0.0736 - acc: 0.9832 - val_loss: 0.1285 - val_acc: 0.9782\n",
            "Epoch 22/30\n",
            "60000/60000 [==============================] - 14s 228us/step - loss: 0.0737 - acc: 0.9832 - val_loss: 0.1423 - val_acc: 0.9701\n",
            "Epoch 23/30\n",
            "60000/60000 [==============================] - 14s 228us/step - loss: 0.0768 - acc: 0.9838 - val_loss: 0.3243 - val_acc: 0.9431\n",
            "Epoch 24/30\n",
            "60000/60000 [==============================] - 13s 218us/step - loss: 0.0738 - acc: 0.9840 - val_loss: 0.1379 - val_acc: 0.9732\n",
            "Epoch 25/30\n",
            "60000/60000 [==============================] - 13s 224us/step - loss: 0.0728 - acc: 0.9845 - val_loss: 0.1706 - val_acc: 0.9738\n",
            "Epoch 26/30\n",
            "60000/60000 [==============================] - 13s 215us/step - loss: 0.0734 - acc: 0.9838 - val_loss: 0.1281 - val_acc: 0.9761\n",
            "Epoch 27/30\n",
            "60000/60000 [==============================] - 14s 235us/step - loss: 0.0684 - acc: 0.9859 - val_loss: 0.1346 - val_acc: 0.9800\n",
            "Epoch 28/30\n",
            "60000/60000 [==============================] - 13s 224us/step - loss: 0.0646 - acc: 0.9861 - val_loss: 0.1308 - val_acc: 0.9765\n",
            "Epoch 29/30\n",
            "60000/60000 [==============================] - 13s 223us/step - loss: 0.0648 - acc: 0.9859 - val_loss: 0.2227 - val_acc: 0.9667\n",
            "Epoch 30/30\n",
            "60000/60000 [==============================] - 13s 223us/step - loss: 0.0682 - acc: 0.9857 - val_loss: 0.1505 - val_acc: 0.9758\n"
          ],
          "name": "stdout"
        },
        {
          "output_type": "display_data",
          "data": {
            "image/png": "[encoded data removed]",
            "text/plain": [
              "<Figure size 432x288 with 1 Axes>"
            ]
          },
          "metadata": {
            "tags": []
          }
        },
        {
          "output_type": "display_data",
          "data": {
            "image/png": "[encoded data removed]",
            "text/plain": [
              "<Figure size 432x288 with 1 Axes>"
            ]
          },
          "metadata": {
            "tags": []
          }
        }
      ]
    },
    {
      "cell_type": "markdown",
      "metadata": {
        "id": "NMg0D7Mn2k2N",
        "colab_type": "text"
      },
      "source": [
        "# PRETTY GOOD"
      ]
    },
    {
      "cell_type": "code",
      "metadata": {
        "id": "4JCa5WX02mCP",
        "colab_type": "code",
        "colab": {
          "base_uri": "https://localhost:8080/",
          "height": 1000
        },
        "outputId": "bfb84ce4-c4c3-4790-b932-490019bf4c9b"
      },
      "source": [
        "from keras.datasets import mnist\n",
        "import matplotlib.pyplot as plt\n",
        "import numpy as np\n",
        "import math as m\n",
        "import time\n",
        "from keras.models import Sequential\n",
        "from keras.layers.convolutional import Conv2D\n",
        "from keras.layers.convolutional import MaxPooling2D\n",
        "from keras.layers.core import Activation\n",
        "from keras.layers.core import Flatten\n",
        "from keras.layers.core import Dense\n",
        "from keras import backend as K\n",
        "from keras.utils import to_categorical\n",
        "from keras import models\n",
        "from keras import layers\n",
        "import tensorflow as tf\n",
        "from tensorflow import keras\n",
        "\n",
        "fashion_mnist = keras.datasets.fashion_mnist\n",
        "\n",
        "(train_images, train_labels), (test_images, test_labels) = fashion_mnist.load_data()\n",
        "\n",
        "train_images = train_images_original.reshape((60000, 28 * 28))\n",
        "train_images = train_images.astype('float32') / 255\n",
        "\n",
        "test_images = test_images_original.reshape((10000, 28 * 28))\n",
        "test_images = test_images.astype('float32') / 255\n",
        "\n",
        "train_labels = to_categorical(train_labels_original)\n",
        "test_labels = to_categorical(test_labels_original)\n",
        "\n",
        "network = models.Sequential()\n",
        "network.add(layers.Dense(512, activation='relu', input_shape=(28 * 28,))) # default was 512\n",
        "network.add(layers.Dropout(0.66)) # dropout to control for overfitting\n",
        "network.add(layers.Dense(10, activation='softmax'))\n",
        "network.summary()\n",
        "\n",
        "network.compile(optimizer='rmsprop',\n",
        "                loss='categorical_crossentropy',\n",
        "                metrics=['accuracy'])\n",
        "\n",
        "epochs = 40 # default was 50\n",
        "history = network.fit(train_images, \n",
        "                      train_labels, \n",
        "                      epochs=epochs, \n",
        "                      batch_size=128, \n",
        "                      validation_data=(test_images, test_labels))\n",
        "\n",
        "history_dict = history.history\n",
        "loss_values = history_dict['loss']\n",
        "test_loss_values = history_dict['val_loss']\n",
        "epochs_range = range(1, epochs + 1)\n",
        "\n",
        "plt.plot(epochs_range, loss_values, 'bo', label='Training loss')\n",
        "plt.plot(epochs_range, test_loss_values, 'ro', label='Test loss')\n",
        "plt.title('Training and test loss')\n",
        "plt.xlabel('Epochs')\n",
        "plt.ylabel('Loss')\n",
        "plt.legend()\n",
        "plt.show()\n",
        "\n",
        "acc_values = history_dict['acc']\n",
        "test_acc_values = history_dict['val_acc']\n",
        "\n",
        "plt.plot(epochs_range, acc_values, 'bo', label='Training accuracy')\n",
        "plt.plot(epochs_range, test_acc_values, 'ro', label='Test accuracy')\n",
        "plt.title('Training and test accuracy')\n",
        "plt.xlabel('Epochs')\n",
        "plt.ylabel('Accuracy')\n",
        "plt.legend()\n",
        "plt.show()\n"
      ],
      "execution_count": 38,
      "outputs": [
        {
          "output_type": "stream",
          "text": [
            "Downloading data from https://storage.googleapis.com/tensorflow/tf-keras-datasets/train-labels-idx1-ubyte.gz\n",
            "32768/29515 [=================================] - 0s 0us/step\n",
            "Downloading data from https://storage.googleapis.com/tensorflow/tf-keras-datasets/train-images-idx3-ubyte.gz\n",
            "26427392/26421880 [==============================] - 0s 0us/step\n",
            "Downloading data from https://storage.googleapis.com/tensorflow/tf-keras-datasets/t10k-labels-idx1-ubyte.gz\n",
            "8192/5148 [===============================================] - 0s 0us/step\n",
            "Downloading data from https://storage.googleapis.com/tensorflow/tf-keras-datasets/t10k-images-idx3-ubyte.gz\n",
            "4423680/4422102 [==============================] - 0s 0us/step\n",
            "WARNING:tensorflow:Large dropout rate: 0.66 (>0.5). In TensorFlow 2.x, dropout() uses dropout rate instead of keep_prob. Please ensure that this is intended.\n"
          ],
          "name": "stdout"
        },
        {
          "output_type": "stream",
          "text": [
            "WARNING:tensorflow:Large dropout rate: 0.66 (>0.5). In TensorFlow 2.x, dropout() uses dropout rate instead of keep_prob. Please ensure that this is intended.\n"
          ],
          "name": "stderr"
        },
        {
          "output_type": "stream",
          "text": [
            "Model: \"sequential_37\"\n",
            "_________________________________________________________________\n",
            "Layer (type)                 Output Shape              Param #   \n",
            "=================================================================\n",
            "dense_82 (Dense)             (None, 512)               401920    \n",
            "_________________________________________________________________\n",
            "dropout_5 (Dropout)          (None, 512)               0         \n",
            "_________________________________________________________________\n",
            "dense_83 (Dense)             (None, 10)                5130      \n",
            "=================================================================\n",
            "Total params: 407,050\n",
            "Trainable params: 407,050\n",
            "Non-trainable params: 0\n",
            "_________________________________________________________________\n",
            "Train on 60000 samples, validate on 10000 samples\n",
            "Epoch 1/40\n",
            "60000/60000 [==============================] - 9s 145us/step - loss: 0.3653 - acc: 0.8906 - val_loss: 0.1679 - val_acc: 0.9476\n",
            "Epoch 2/40\n",
            "60000/60000 [==============================] - 6s 103us/step - loss: 0.1973 - acc: 0.9415 - val_loss: 0.1222 - val_acc: 0.9611\n",
            "Epoch 3/40\n",
            "60000/60000 [==============================] - 7s 118us/step - loss: 0.1589 - acc: 0.9533 - val_loss: 0.1027 - val_acc: 0.9699\n",
            "Epoch 4/40\n",
            "60000/60000 [==============================] - 7s 121us/step - loss: 0.1397 - acc: 0.9591 - val_loss: 0.0949 - val_acc: 0.9728\n",
            "Epoch 5/40\n",
            "60000/60000 [==============================] - 6s 107us/step - loss: 0.1268 - acc: 0.9634 - val_loss: 0.0929 - val_acc: 0.9739\n",
            "Epoch 6/40\n",
            "60000/60000 [==============================] - 7s 120us/step - loss: 0.1174 - acc: 0.9659 - val_loss: 0.0865 - val_acc: 0.9761\n",
            "Epoch 7/40\n",
            "60000/60000 [==============================] - 7s 124us/step - loss: 0.1102 - acc: 0.9677 - val_loss: 0.0841 - val_acc: 0.9755\n",
            "Epoch 8/40\n",
            "60000/60000 [==============================] - 7s 114us/step - loss: 0.1056 - acc: 0.9702 - val_loss: 0.0872 - val_acc: 0.9773\n",
            "Epoch 9/40\n",
            "60000/60000 [==============================] - 7s 112us/step - loss: 0.1028 - acc: 0.9720 - val_loss: 0.0823 - val_acc: 0.9792\n",
            "Epoch 10/40\n",
            "60000/60000 [==============================] - 7s 119us/step - loss: 0.1000 - acc: 0.9725 - val_loss: 0.0794 - val_acc: 0.9792\n",
            "Epoch 11/40\n",
            "60000/60000 [==============================] - 7s 121us/step - loss: 0.0941 - acc: 0.9739 - val_loss: 0.0823 - val_acc: 0.9795\n",
            "Epoch 12/40\n",
            "60000/60000 [==============================] - 7s 114us/step - loss: 0.0950 - acc: 0.9741 - val_loss: 0.0850 - val_acc: 0.9789\n",
            "Epoch 13/40\n",
            "60000/60000 [==============================] - 7s 120us/step - loss: 0.0909 - acc: 0.9752 - val_loss: 0.0787 - val_acc: 0.9802\n",
            "Epoch 14/40\n",
            "60000/60000 [==============================] - 7s 111us/step - loss: 0.0871 - acc: 0.9767 - val_loss: 0.0808 - val_acc: 0.9807\n",
            "Epoch 15/40\n",
            "60000/60000 [==============================] - 7s 118us/step - loss: 0.0848 - acc: 0.9776 - val_loss: 0.0815 - val_acc: 0.9801\n",
            "Epoch 16/40\n",
            "60000/60000 [==============================] - 7s 116us/step - loss: 0.0864 - acc: 0.9766 - val_loss: 0.0821 - val_acc: 0.9810\n",
            "Epoch 17/40\n",
            "60000/60000 [==============================] - 7s 115us/step - loss: 0.0806 - acc: 0.9786 - val_loss: 0.0813 - val_acc: 0.9811\n",
            "Epoch 18/40\n",
            "60000/60000 [==============================] - 7s 116us/step - loss: 0.0822 - acc: 0.9777 - val_loss: 0.0806 - val_acc: 0.9809\n",
            "Epoch 19/40\n",
            "60000/60000 [==============================] - 7s 116us/step - loss: 0.0810 - acc: 0.9793 - val_loss: 0.0864 - val_acc: 0.9806\n",
            "Epoch 20/40\n",
            "60000/60000 [==============================] - 7s 116us/step - loss: 0.0792 - acc: 0.9793 - val_loss: 0.0803 - val_acc: 0.9820\n",
            "Epoch 21/40\n",
            "60000/60000 [==============================] - 6s 105us/step - loss: 0.0773 - acc: 0.9790 - val_loss: 0.0871 - val_acc: 0.9814\n",
            "Epoch 22/40\n",
            "60000/60000 [==============================] - 7s 112us/step - loss: 0.0797 - acc: 0.9793 - val_loss: 0.0897 - val_acc: 0.9811\n",
            "Epoch 23/40\n",
            "60000/60000 [==============================] - 7s 114us/step - loss: 0.0758 - acc: 0.9800 - val_loss: 0.0850 - val_acc: 0.9821\n",
            "Epoch 24/40\n",
            "60000/60000 [==============================] - 7s 118us/step - loss: 0.0761 - acc: 0.9798 - val_loss: 0.0900 - val_acc: 0.9817\n",
            "Epoch 25/40\n",
            "60000/60000 [==============================] - 7s 118us/step - loss: 0.0766 - acc: 0.9803 - val_loss: 0.0859 - val_acc: 0.9822\n",
            "Epoch 26/40\n",
            "60000/60000 [==============================] - 7s 116us/step - loss: 0.0730 - acc: 0.9809 - val_loss: 0.0904 - val_acc: 0.9819\n",
            "Epoch 27/40\n",
            "60000/60000 [==============================] - 7s 120us/step - loss: 0.0710 - acc: 0.9823 - val_loss: 0.0860 - val_acc: 0.9821\n",
            "Epoch 28/40\n",
            "60000/60000 [==============================] - 7s 121us/step - loss: 0.0711 - acc: 0.9814 - val_loss: 0.0877 - val_acc: 0.9812\n",
            "Epoch 29/40\n",
            "60000/60000 [==============================] - 7s 119us/step - loss: 0.0686 - acc: 0.9822 - val_loss: 0.0874 - val_acc: 0.9823\n",
            "Epoch 30/40\n",
            "60000/60000 [==============================] - 7s 119us/step - loss: 0.0722 - acc: 0.9819 - val_loss: 0.0853 - val_acc: 0.9819\n",
            "Epoch 31/40\n",
            "60000/60000 [==============================] - 7s 115us/step - loss: 0.0672 - acc: 0.9827 - val_loss: 0.0926 - val_acc: 0.9819\n",
            "Epoch 32/40\n",
            "60000/60000 [==============================] - 7s 115us/step - loss: 0.0676 - acc: 0.9825 - val_loss: 0.0933 - val_acc: 0.9814\n",
            "Epoch 33/40\n",
            "60000/60000 [==============================] - 7s 113us/step - loss: 0.0699 - acc: 0.9825 - val_loss: 0.0911 - val_acc: 0.9825\n",
            "Epoch 34/40\n",
            "60000/60000 [==============================] - 7s 113us/step - loss: 0.0682 - acc: 0.9833 - val_loss: 0.0929 - val_acc: 0.9822\n",
            "Epoch 35/40\n",
            "60000/60000 [==============================] - 7s 115us/step - loss: 0.0685 - acc: 0.9835 - val_loss: 0.0878 - val_acc: 0.9830\n",
            "Epoch 36/40\n",
            "60000/60000 [==============================] - 6s 106us/step - loss: 0.0622 - acc: 0.9840 - val_loss: 0.0942 - val_acc: 0.9831\n",
            "Epoch 37/40\n",
            "60000/60000 [==============================] - 7s 112us/step - loss: 0.0677 - acc: 0.9840 - val_loss: 0.0893 - val_acc: 0.9836\n",
            "Epoch 38/40\n",
            "60000/60000 [==============================] - 6s 105us/step - loss: 0.0632 - acc: 0.9844 - val_loss: 0.1012 - val_acc: 0.9823\n",
            "Epoch 39/40\n",
            "60000/60000 [==============================] - 7s 116us/step - loss: 0.0641 - acc: 0.9851 - val_loss: 0.0977 - val_acc: 0.9826\n",
            "Epoch 40/40\n",
            "60000/60000 [==============================] - 7s 108us/step - loss: 0.0655 - acc: 0.9835 - val_loss: 0.0985 - val_acc: 0.9819\n"
          ],
          "name": "stdout"
        },
        {
          "output_type": "display_data",
          "data": {
            "image/png": "[encoded data removed]",
            "text/plain": [
              "<Figure size 432x288 with 1 Axes>"
            ]
          },
          "metadata": {
            "tags": []
          }
        },
        {
          "output_type": "display_data",
          "data": {
            "image/png": "[encoded data removed]",
            "text/plain": [
              "<Figure size 432x288 with 1 Axes>"
            ]
          },
          "metadata": {
            "tags": []
          }
        }
      ]
    }
  ]
}